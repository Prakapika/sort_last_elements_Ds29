{
 "cells": [
  {
   "cell_type": "code",
   "execution_count": 1,
   "id": "86a138f0",
   "metadata": {},
   "outputs": [
    {
     "name": "stdout",
     "output_type": "stream",
     "text": [
      "The sorted elements of the given list as follows: [(2, 1), (1, 2), (2, 3), (4, 4), (2, 5)]\n"
     ]
    }
   ],
   "source": [
    "Sample_List = [(2, 5), (1, 2), (4, 4), (2, 3), (2, 1)]\n",
    "for i in range(0, len(Sample_List)):\n",
    "    for j in range(0, len(Sample_List)-i-1):\n",
    "        if Sample_List[j][-1] > Sample_List[j+1][-1]:\n",
    "            temp = Sample_List[j]\n",
    "            Sample_List[j] = Sample_List[j+1]\n",
    "            Sample_List[j+1] = temp\n",
    "print(\"The sorted elements of the given list as follows:\", Sample_List)"
   ]
  },
  {
   "cell_type": "code",
   "execution_count": null,
   "id": "6244698f",
   "metadata": {},
   "outputs": [],
   "source": []
  }
 ],
 "metadata": {
  "kernelspec": {
   "display_name": "Python 3 (ipykernel)",
   "language": "python",
   "name": "python3"
  },
  "language_info": {
   "codemirror_mode": {
    "name": "ipython",
    "version": 3
   },
   "file_extension": ".py",
   "mimetype": "text/x-python",
   "name": "python",
   "nbconvert_exporter": "python",
   "pygments_lexer": "ipython3",
   "version": "3.10.6"
  }
 },
 "nbformat": 4,
 "nbformat_minor": 5
}
